{
 "cells": [
  {
   "cell_type": "markdown",
   "metadata": {},
   "source": [
    "# Python For Data Science\n",
    "\n",
    "“Torture the data, and it will confess to anything.”\n",
    "– Ronald Coase\n",
    "\n",
    "Grateful to Mr.Guido van Rossum, Creator of Python who made our lifes easy.\n",
    "\n",
    "This Notebook is continuation of my previous notes (PythonNotes1) on Python basics from Data Science perspective.\n",
    "\n",
    "Topics covered\n",
    "1. Arithmetic operators\n",
    "2. Relational operators\n",
    "3. Logical operators\n",
    "4. Assignment operators\n",
    "5. Identity operators\n",
    "5. if elif else statements\n",
    "6. Loops\n",
    "7. break vs continue\n",
    "8. Functions\n",
    "9. lambda expressions\n",
    "10. lambda vs functions\n",
    "11. Map\n",
    "12. filter\n",
    "13. reduce\n",
    "14. List Comprehensions\n",
    "\n",
    "Will soon post the new files with topics including generators, files, classes, exception handling, Numpy, Pandas, etc.., "
   ]
  },
  {
   "cell_type": "markdown",
   "metadata": {},
   "source": [
    "## Operators\n"
   ]
  },
  {
   "cell_type": "markdown",
   "metadata": {},
   "source": [
    "### Arithmetic operations"
   ]
  },
  {
   "cell_type": "code",
   "execution_count": 148,
   "metadata": {},
   "outputs": [
    {
     "name": "stdout",
     "output_type": "stream",
     "text": [
      "result after adding a and b is 115\n",
      "result after subtracting a and b is 85\n",
      "result after multiplying a and b is 1500\n",
      "result after Dividing a and b is 6.666666666666667\n",
      "result after  a modulus b is 10\n"
     ]
    }
   ],
   "source": [
    "a= 100\n",
    "b =15\n",
    "# addition \n",
    "result = a+b\n",
    "print(\"result after adding a and b is\", result)\n",
    "# subtraction\n",
    "result = a-b\n",
    "print(\"result after subtracting a and b is\", result)\n",
    "#multiplication\n",
    "result = a*b\n",
    "print(\"result after multiplying a and b is\", result)\n",
    "#Division\n",
    "result = a/b\n",
    "print(\"result after Dividing a and b is\", result)\n",
    "# modulus\n",
    "result = a%b\n",
    "print(\"result after  a modulus b is\", result)"
   ]
  },
  {
   "cell_type": "code",
   "execution_count": 149,
   "metadata": {},
   "outputs": [
    {
     "name": "stdout",
     "output_type": "stream",
     "text": [
      "['d', 'a', 't', 'a', '_', 'M', 'L']\n"
     ]
    }
   ],
   "source": [
    "#The \"+\" can also be used to concatenate two strings or lists\n",
    "list_1 = ['d','a','t']\n",
    "list_2 = ['a','_','M','L']\n",
    "result = list_1 + list_2\n",
    "print(result)\n",
    "## To know more about lists and strings please refer my pythonNotes1"
   ]
  },
  {
   "cell_type": "markdown",
   "metadata": {},
   "source": [
    "### Difference between division operators : \"/\" vs \"//\""
   ]
  },
  {
   "cell_type": "code",
   "execution_count": 150,
   "metadata": {},
   "outputs": [
    {
     "name": "stdout",
     "output_type": "stream",
     "text": [
      "result after subtracting a and b is 11.428571428571429\n",
      "result after subtracting a and b is 11\n"
     ]
    }
   ],
   "source": [
    "num1 = 80\n",
    "num2 = 7\n",
    "#Division(float):\"/\"\n",
    "result = num1/num2\n",
    "print(\"result after subtracting a and b is\", result)\n",
    "#Division(floor):\"//\"\n",
    "result = num1 // num2\n",
    "print(\"result after subtracting a and b is\", result)"
   ]
  },
  {
   "cell_type": "markdown",
   "metadata": {},
   "source": [
    "### Relational Operators;\n",
    "It compares values and returns True or False"
   ]
  },
  {
   "cell_type": "markdown",
   "metadata": {},
   "source": [
    "Eg: consider \">\", \n",
    "\n",
    "greater than denoted by > (it returns true if A is greater than B in \"A > B\" else, it returns false ) where A and B can be integer or string"
   ]
  },
  {
   "cell_type": "code",
   "execution_count": 151,
   "metadata": {},
   "outputs": [
    {
     "data": {
      "text/plain": [
       "False"
      ]
     },
     "execution_count": 151,
     "metadata": {},
     "output_type": "execute_result"
    }
   ],
   "source": [
    "1 > 2"
   ]
  },
  {
   "cell_type": "code",
   "execution_count": 152,
   "metadata": {},
   "outputs": [
    {
     "data": {
      "text/plain": [
       "True"
      ]
     },
     "execution_count": 152,
     "metadata": {},
     "output_type": "execute_result"
    }
   ],
   "source": [
    "1 < 2"
   ]
  },
  {
   "cell_type": "code",
   "execution_count": 153,
   "metadata": {},
   "outputs": [
    {
     "data": {
      "text/plain": [
       "True"
      ]
     },
     "execution_count": 153,
     "metadata": {},
     "output_type": "execute_result"
    }
   ],
   "source": [
    "1 >= 1"
   ]
  },
  {
   "cell_type": "code",
   "execution_count": 154,
   "metadata": {},
   "outputs": [
    {
     "data": {
      "text/plain": [
       "True"
      ]
     },
     "execution_count": 154,
     "metadata": {},
     "output_type": "execute_result"
    }
   ],
   "source": [
    "1 <= 4"
   ]
  },
  {
   "cell_type": "code",
   "execution_count": 155,
   "metadata": {},
   "outputs": [
    {
     "data": {
      "text/plain": [
       "True"
      ]
     },
     "execution_count": 155,
     "metadata": {},
     "output_type": "execute_result"
    }
   ],
   "source": [
    "1 == 1"
   ]
  },
  {
   "cell_type": "markdown",
   "metadata": {},
   "source": [
    "### String comparison using relational operators\n",
    "Strings are compared using ASCII value of the characters\n",
    "\n",
    "If A and B are strings ; then it compares each element from left to right till both elements in A and B are different, then it compares the ASCII value of those two unique elements."
   ]
  },
  {
   "cell_type": "code",
   "execution_count": 156,
   "metadata": {},
   "outputs": [
    {
     "name": "stdout",
     "output_type": "stream",
     "text": [
      "Output for A(Data)>B(Science) is   False\n",
      "Output for A(Data)<B(Science) is   True\n"
     ]
    }
   ],
   "source": [
    "A = \"Data\"\n",
    "B = \"science\"\n",
    "\n",
    "print(\"Output for A(Data)>B(Science) is\", \" \", A>B)\n",
    "print(\"Output for A(Data)<B(Science) is\", \" \", A<B)\n"
   ]
  },
  {
   "cell_type": "code",
   "execution_count": 157,
   "metadata": {},
   "outputs": [
    {
     "data": {
      "text/plain": [
       "False"
      ]
     },
     "execution_count": 157,
     "metadata": {},
     "output_type": "execute_result"
    }
   ],
   "source": [
    "# It returns false because the first unique element of two strings are 'd' and\n",
    "#'s'As ASCII value of \"d\" (in string \"data\") is less than \"s\" (in string \"sci\")\n",
    "'datas'>'sci'"
   ]
  },
  {
   "cell_type": "code",
   "execution_count": 158,
   "metadata": {},
   "outputs": [
    {
     "data": {
      "text/plain": [
       "False"
      ]
     },
     "execution_count": 158,
     "metadata": {},
     "output_type": "execute_result"
    }
   ],
   "source": [
    "'datas' == 'sci'"
   ]
  },
  {
   "cell_type": "code",
   "execution_count": 159,
   "metadata": {},
   "outputs": [
    {
     "data": {
      "text/plain": [
       "True"
      ]
     },
     "execution_count": 159,
     "metadata": {},
     "output_type": "execute_result"
    }
   ],
   "source": [
    "'datas' != 'sci'"
   ]
  },
  {
   "cell_type": "markdown",
   "metadata": {},
   "source": [
    "### Logical Operators\n",
    "and\n",
    "\n",
    "or\n",
    "\n",
    "not"
   ]
  },
  {
   "cell_type": "code",
   "execution_count": 160,
   "metadata": {},
   "outputs": [
    {
     "data": {
      "text/plain": [
       "False"
      ]
     },
     "execution_count": 160,
     "metadata": {},
     "output_type": "execute_result"
    }
   ],
   "source": [
    "# A and B returns true if both expression A and B returns True else returns false\n",
    "(1 > 2) and (2 < 3)"
   ]
  },
  {
   "cell_type": "code",
   "execution_count": 161,
   "metadata": {},
   "outputs": [
    {
     "data": {
      "text/plain": [
       "True"
      ]
     },
     "execution_count": 161,
     "metadata": {},
     "output_type": "execute_result"
    }
   ],
   "source": [
    "# A and B returns true if atleast one of expression A and B is True else \n",
    "# returns false\n",
    "(1 > 2) or (2 < 3)"
   ]
  },
  {
   "cell_type": "code",
   "execution_count": 162,
   "metadata": {},
   "outputs": [
    {
     "data": {
      "text/plain": [
       "False"
      ]
     },
     "execution_count": 162,
     "metadata": {},
     "output_type": "execute_result"
    }
   ],
   "source": [
    "not((1 > 2) or (2 < 3))"
   ]
  },
  {
   "cell_type": "markdown",
   "metadata": {},
   "source": [
    "### Assignment operators"
   ]
  },
  {
   "cell_type": "code",
   "execution_count": 163,
   "metadata": {},
   "outputs": [
    {
     "name": "stdout",
     "output_type": "stream",
     "text": [
      "value of a after performing a+=b is   15\n",
      "value of a after performing a-=b is   5\n",
      "value of a after performing a*=b is   50\n",
      "value of a after performing a**=b is   100000\n"
     ]
    }
   ],
   "source": [
    "# \"+=\", Adds right side value to left side value and then assigns new value to \n",
    "# the left side variable\n",
    "a = 10\n",
    "b = 5\n",
    "a+=b\n",
    "print(\"value of a after performing a+=b is\",\" \",a)\n",
    "# \"-=\", Subtracts right side value with leftside value and then assigns new value to \n",
    "# the left side variable\n",
    "\n",
    "a = 10\n",
    "b= 5\n",
    "a-=b\n",
    "print(\"value of a after performing a-=b is\",\" \",a)\n",
    "# \"*=\", Multiplies right side value with leftside value and then assigns new value to \n",
    "# the left side variable\n",
    "a = 10\n",
    "b= 5\n",
    "a *= b \n",
    "print(\"value of a after performing a*=b is\",\" \",a)\n",
    "# \"**=\" calculates left side value raise to the power of right side value and assigns \n",
    "# it to leftside value\n",
    "a = 10\n",
    "b= 5\n",
    "a **= b \n",
    "print(\"value of a after performing a**=b is\",\" \",a)"
   ]
  },
  {
   "cell_type": "markdown",
   "metadata": {},
   "source": [
    "### Identity operators\n",
    "\n",
    "\"in\" and \"not in\""
   ]
  },
  {
   "cell_type": "code",
   "execution_count": 164,
   "metadata": {},
   "outputs": [],
   "source": [
    "#x\"in\" y :outputs true if it finds x in sequence Y, false otherwise"
   ]
  },
  {
   "cell_type": "code",
   "execution_count": 165,
   "metadata": {},
   "outputs": [
    {
     "name": "stdout",
     "output_type": "stream",
     "text": [
      "output for X(2) in Y([1, 2, 3]) is   True\n"
     ]
    }
   ],
   "source": [
    "X  =  2\n",
    "Y = [1, 2, 3]\n",
    "print(\"output for X(2) in Y([1, 2, 3]) is\",\" \",X in Y)"
   ]
  },
  {
   "cell_type": "code",
   "execution_count": 166,
   "metadata": {},
   "outputs": [],
   "source": [
    "#x\"not in\" y :outputs true if it finds x in sequence Y, false otherwise"
   ]
  },
  {
   "cell_type": "code",
   "execution_count": 167,
   "metadata": {},
   "outputs": [
    {
     "name": "stdout",
     "output_type": "stream",
     "text": [
      "output for X(2) not in Y([1, 2, 3]) is   False\n"
     ]
    }
   ],
   "source": [
    "X  =  2\n",
    "Y = [1, 2, 3]\n",
    "print(\"output for X(2) not in Y([1, 2, 3]) is\",\" \",X not in Y)"
   ]
  },
  {
   "cell_type": "markdown",
   "metadata": {},
   "source": [
    "Extra Info:\n",
    "Apart from the above mentioned operators; Python also has\n",
    "5. Bitwise operators\n",
    "6. Membership operators\n"
   ]
  },
  {
   "cell_type": "markdown",
   "metadata": {},
   "source": [
    "## if elif else statements\n",
    "if condition:\n",
    "  \n",
    "  //code\n",
    "\n",
    "elif condition:\n",
    "  \n",
    "  //code\n",
    "  \n",
    "else:\n",
    "  \n",
    "  //code"
   ]
  },
  {
   "cell_type": "code",
   "execution_count": 168,
   "metadata": {},
   "outputs": [
    {
     "name": "stdout",
     "output_type": "stream",
     "text": [
      "a>b\n"
     ]
    }
   ],
   "source": [
    "a = 100\n",
    "b = 50\n",
    "\n",
    "if a > b:\n",
    "    print(\"a>b\")\n",
    "elif(a == b):\n",
    "    print(\"a=b\")\n",
    "else:\n",
    "    print(\"a<b\")"
   ]
  },
  {
   "cell_type": "code",
   "execution_count": 169,
   "metadata": {},
   "outputs": [
    {
     "name": "stdout",
     "output_type": "stream",
     "text": [
      "enter number \n",
      "10\n"
     ]
    }
   ],
   "source": [
    "number = int(input(\"enter number \\n\"))"
   ]
  },
  {
   "cell_type": "code",
   "execution_count": 170,
   "metadata": {},
   "outputs": [
    {
     "name": "stdout",
     "output_type": "stream",
     "text": [
      "number between 1 to 10\n"
     ]
    }
   ],
   "source": [
    "if(number >= 1 and number <= 10):\n",
    "    print(\"number between 1 to 10\")\n",
    "elif(number >= 11 and number <= 20):\n",
    "    print(\"number between 11 to 20\")\n",
    "elif(number >= 21 and number <= 30):\n",
    "    print(\"number between 20 to 30\")\n",
    "else:\n",
    "    print(\"number greater than 30\")"
   ]
  },
  {
   "cell_type": "markdown",
   "metadata": {},
   "source": [
    "## Loops:\n",
    "Loops are basically used when you have a certain part of code which has to be repeated for n number of times"
   ]
  },
  {
   "cell_type": "markdown",
   "metadata": {},
   "source": [
    "### for loop: \n",
    "\n",
    "defined as\n",
    "\n",
    "for i in iterable:\n",
    "        \n",
    "        code\n",
    "where iterable can be list or list of lists or defined by range(x) "
   ]
  },
  {
   "cell_type": "code",
   "execution_count": 171,
   "metadata": {},
   "outputs": [],
   "source": [
    "my_list = range(3)"
   ]
  },
  {
   "cell_type": "code",
   "execution_count": 172,
   "metadata": {},
   "outputs": [
    {
     "name": "stdout",
     "output_type": "stream",
     "text": [
      "0\n",
      "1\n",
      "2\n"
     ]
    }
   ],
   "source": [
    "for i in my_list:\n",
    "    print(i)"
   ]
  },
  {
   "cell_type": "code",
   "execution_count": 173,
   "metadata": {},
   "outputs": [],
   "source": [
    "my_list = [1, 2, 3]"
   ]
  },
  {
   "cell_type": "code",
   "execution_count": 174,
   "metadata": {},
   "outputs": [
    {
     "name": "stdout",
     "output_type": "stream",
     "text": [
      "1\n",
      "2\n",
      "3\n"
     ]
    }
   ],
   "source": [
    "for i in my_list:\n",
    "    print(i)"
   ]
  },
  {
   "cell_type": "code",
   "execution_count": 175,
   "metadata": {},
   "outputs": [],
   "source": [
    "my_list = ['a', 'b', 'c']"
   ]
  },
  {
   "cell_type": "code",
   "execution_count": 176,
   "metadata": {},
   "outputs": [
    {
     "name": "stdout",
     "output_type": "stream",
     "text": [
      "0\n",
      "1\n",
      "2\n"
     ]
    }
   ],
   "source": [
    "for i in range(len(my_list)):\n",
    "    print (i)"
   ]
  },
  {
   "cell_type": "code",
   "execution_count": 177,
   "metadata": {},
   "outputs": [
    {
     "name": "stdout",
     "output_type": "stream",
     "text": [
      "0\n",
      "0\n",
      "0\n",
      "1\n"
     ]
    }
   ],
   "source": [
    "# nested for loops\n",
    "for i in range(2):\n",
    "    for j in range(2):\n",
    "      print (i*j)"
   ]
  },
  {
   "cell_type": "code",
   "execution_count": 178,
   "metadata": {},
   "outputs": [
    {
     "name": "stdout",
     "output_type": "stream",
     "text": [
      "list of even numbers are [0, 2, 4, 6, 8, 10, 12, 14, 16, 18]\n",
      "list of odd numbers are [1, 3, 5, 7, 9, 11, 13, 15, 17, 19]\n"
     ]
    }
   ],
   "source": [
    "#forloops and if statements\n",
    "my_list = range(20)\n",
    "even_list = []\n",
    "odd_list = []\n",
    "\n",
    "for i in my_list:\n",
    "    if(i % 2 ==0):\n",
    "        even_list.append(i)\n",
    "    else:\n",
    "        odd_list.append(i)\n",
    "\n",
    "print('list of even numbers are', even_list)\n",
    "print('list of odd numbers are',odd_list)"
   ]
  },
  {
   "cell_type": "code",
   "execution_count": 179,
   "metadata": {},
   "outputs": [],
   "source": [
    "numb_3 = []\n",
    "numb_5 = []\n",
    "numb_7 = []\n",
    "numb_others =[]\n",
    "\n",
    "for i in my_list:\n",
    "    if(i % 3 ==0):\n",
    "        numb_3.append(i)\n",
    "    elif(i % 5 ==0):\n",
    "        numb_5.append(i)\n",
    "    elif(i % 7 ==0):\n",
    "        numb_7.append(i)\n",
    "    else:\n",
    "        numb_others.append(i)"
   ]
  },
  {
   "cell_type": "code",
   "execution_count": 180,
   "metadata": {},
   "outputs": [
    {
     "data": {
      "text/plain": [
       "[0, 3, 6, 9, 12, 15, 18]"
      ]
     },
     "execution_count": 180,
     "metadata": {},
     "output_type": "execute_result"
    }
   ],
   "source": [
    "numb_3"
   ]
  },
  {
   "cell_type": "code",
   "execution_count": 181,
   "metadata": {},
   "outputs": [
    {
     "data": {
      "text/plain": [
       "[5, 10]"
      ]
     },
     "execution_count": 181,
     "metadata": {},
     "output_type": "execute_result"
    }
   ],
   "source": [
    "numb_5"
   ]
  },
  {
   "cell_type": "code",
   "execution_count": 182,
   "metadata": {},
   "outputs": [
    {
     "data": {
      "text/plain": [
       "[7, 14]"
      ]
     },
     "execution_count": 182,
     "metadata": {},
     "output_type": "execute_result"
    }
   ],
   "source": [
    "numb_7"
   ]
  },
  {
   "cell_type": "code",
   "execution_count": 183,
   "metadata": {},
   "outputs": [
    {
     "data": {
      "text/plain": [
       "[1, 2, 4, 8, 11, 13, 16, 17, 19]"
      ]
     },
     "execution_count": 183,
     "metadata": {},
     "output_type": "execute_result"
    }
   ],
   "source": [
    "numb_others"
   ]
  },
  {
   "cell_type": "markdown",
   "metadata": {},
   "source": [
    "### while loop:\n",
    "defined as:\n",
    "\n",
    "while condition:\n",
    "   \n",
    "     /code/ \n",
    "    \n",
    "In contrast to far, while loop checks the condition for every iteration "
   ]
  },
  {
   "cell_type": "code",
   "execution_count": 184,
   "metadata": {},
   "outputs": [
    {
     "name": "stdout",
     "output_type": "stream",
     "text": [
      "Data Science\n",
      "Data Science\n"
     ]
    }
   ],
   "source": [
    "count = 0\n",
    "while count < 2:\n",
    "    print(\"Data Science\")\n",
    "    count+=1"
   ]
  },
  {
   "cell_type": "code",
   "execution_count": 185,
   "metadata": {},
   "outputs": [
    {
     "name": "stdout",
     "output_type": "stream",
     "text": [
      "list of even numbers are [0, 2, 4, 6, 8, 10, 12, 14, 16, 18]\n",
      "list of odd numbers are [1, 3, 5, 7, 9, 11, 13, 15, 17, 19]\n"
     ]
    }
   ],
   "source": [
    "# while and if statements)\n",
    "even_list = []\n",
    "odd_list = []\n",
    "i=0\n",
    "while i < 20:\n",
    "    if(i % 2 ==0):\n",
    "        even_list.append(i)\n",
    "    else:\n",
    "        odd_list.append(i)\n",
    "    i+=1\n",
    "\n",
    "print('list of even numbers are', even_list)\n",
    "print('list of odd numbers are',odd_list)"
   ]
  },
  {
   "cell_type": "markdown",
   "metadata": {},
   "source": [
    "### break vs continue; \n",
    "break is used to when you want to end the loop if certain condition is met\n",
    "\n",
    "continue is used if you don't want to run the entire loop for certain condition"
   ]
  },
  {
   "cell_type": "code",
   "execution_count": 186,
   "metadata": {},
   "outputs": [
    {
     "name": "stdout",
     "output_type": "stream",
     "text": [
      "value for i is\n",
      "-2\n",
      "-1\n",
      "0\n",
      "1\n",
      "2\n",
      "sum is equal to zero\n"
     ]
    }
   ],
   "source": [
    "#here you want to come out of the loop once the sum becomes zero. \n",
    "#so, break is used\n",
    "sum = 0\n",
    "print('value for i is')\n",
    "for i in range(-2, 4):\n",
    "    sum = sum+i\n",
    "    print(i)\n",
    "    if(sum == 0):\n",
    "        print('sum is equal to zero')\n",
    "        break"
   ]
  },
  {
   "cell_type": "code",
   "execution_count": 187,
   "metadata": {},
   "outputs": [
    {
     "name": "stdout",
     "output_type": "stream",
     "text": [
      "value for i is\n",
      "-2 \t\n",
      "-1 \t\n",
      "1 \t\n",
      "2 \t\n",
      "3 \t\n"
     ]
    }
   ],
   "source": [
    "# Continue: Here you want to divide the  sum with i; Here you don't want to execute \n",
    "# the division statement only for i =0\n",
    "print('value for i is')\n",
    "for i in range(-2, 4):\n",
    "    if(i == 0): \n",
    "        continue\n",
    "    print(i,\"\\t\")\n",
    "    sum = sum/i"
   ]
  },
  {
   "cell_type": "code",
   "execution_count": 188,
   "metadata": {},
   "outputs": [],
   "source": [
    "## List Comprehensions;"
   ]
  },
  {
   "cell_type": "code",
   "execution_count": 189,
   "metadata": {},
   "outputs": [
    {
     "ename": "SyntaxError",
     "evalue": "invalid syntax (<ipython-input-189-6bfba1ad1695>, line 1)",
     "output_type": "error",
     "traceback": [
      "\u001b[1;36m  File \u001b[1;32m\"<ipython-input-189-6bfba1ad1695>\"\u001b[1;36m, line \u001b[1;32m1\u001b[0m\n\u001b[1;33m    It is defined by List(expression (for loop with one or more conditions))\u001b[0m\n\u001b[1;37m                   ^\u001b[0m\n\u001b[1;31mSyntaxError\u001b[0m\u001b[1;31m:\u001b[0m invalid syntax\n"
     ]
    }
   ],
   "source": [
    "It is defined by List(expression (for loop with one or more conditions))"
   ]
  },
  {
   "cell_type": "code",
   "execution_count": null,
   "metadata": {},
   "outputs": [],
   "source": [
    "list_1 = [j for j in range(4)]"
   ]
  },
  {
   "cell_type": "code",
   "execution_count": null,
   "metadata": {},
   "outputs": [],
   "source": [
    "list_1"
   ]
  },
  {
   "cell_type": "code",
   "execution_count": null,
   "metadata": {},
   "outputs": [],
   "source": [
    "#squaring the first 10 numbers; here we have only one condition\n",
    "list_1 = [i*i for i in range(10)]"
   ]
  },
  {
   "cell_type": "code",
   "execution_count": null,
   "metadata": {},
   "outputs": [],
   "source": [
    "list_1"
   ]
  },
  {
   "cell_type": "code",
   "execution_count": null,
   "metadata": {},
   "outputs": [],
   "source": [
    "#Squaring the even numbers in first 10 numbers; here we have more than \n",
    "# one condition \n",
    "list_2 = [i*i for i in range(10) if i%2 == 0]"
   ]
  },
  {
   "cell_type": "code",
   "execution_count": null,
   "metadata": {},
   "outputs": [],
   "source": [
    "list_2"
   ]
  },
  {
   "cell_type": "code",
   "execution_count": null,
   "metadata": {},
   "outputs": [],
   "source": [
    "## nested for loops;  outer loop will be followed by inner loops\n",
    "\n",
    "list_2 = [(j, k) for j in range(2) for k in range(2)]"
   ]
  },
  {
   "cell_type": "code",
   "execution_count": null,
   "metadata": {},
   "outputs": [],
   "source": [
    "list_2"
   ]
  },
  {
   "cell_type": "code",
   "execution_count": null,
   "metadata": {},
   "outputs": [],
   "source": [
    "list_2 = [j for j in range(4) for k in range(j)]"
   ]
  },
  {
   "cell_type": "code",
   "execution_count": null,
   "metadata": {},
   "outputs": [],
   "source": [
    "list_2"
   ]
  },
  {
   "cell_type": "code",
   "execution_count": null,
   "metadata": {},
   "outputs": [],
   "source": [
    "list_2 = [(j, k) for j in range(4) for k in range(j)]\n",
    "\n",
    "list_2\n"
   ]
  },
  {
   "cell_type": "markdown",
   "metadata": {},
   "source": [
    "## Functions\n",
    "function declaration: def keyword is used\n",
    "\n",
    " def func_name:  \n",
    " \n",
    "     /code/"
   ]
  },
  {
   "cell_type": "code",
   "execution_count": null,
   "metadata": {},
   "outputs": [],
   "source": [
    "# function definition\n",
    "def my_function():\n",
    "    print(\"Sample function definition\")"
   ]
  },
  {
   "cell_type": "code",
   "execution_count": null,
   "metadata": {},
   "outputs": [],
   "source": [
    "# function call\n",
    "my_function()"
   ]
  },
  {
   "cell_type": "code",
   "execution_count": null,
   "metadata": {},
   "outputs": [],
   "source": [
    "def add(a, b):\n",
    "    return a+b"
   ]
  },
  {
   "cell_type": "code",
   "execution_count": null,
   "metadata": {},
   "outputs": [],
   "source": [
    "add(20, 30)"
   ]
  },
  {
   "cell_type": "code",
   "execution_count": null,
   "metadata": {},
   "outputs": [],
   "source": [
    "# nested loops"
   ]
  },
  {
   "cell_type": "markdown",
   "metadata": {},
   "source": [
    "## Lambda expressions\n",
    "\n",
    "It is defined as \n",
    "\n",
    "lambda arguments : expression\n",
    "\n",
    "It can have any number of arguments but only once expression"
   ]
  },
  {
   "cell_type": "code",
   "execution_count": null,
   "metadata": {},
   "outputs": [],
   "source": [
    "lambda_declaration = lambda x: x * 2"
   ]
  },
  {
   "cell_type": "code",
   "execution_count": null,
   "metadata": {},
   "outputs": [],
   "source": [
    "lambda_declaration(4)"
   ]
  },
  {
   "cell_type": "code",
   "execution_count": null,
   "metadata": {},
   "outputs": [],
   "source": [
    "#addition using lambda expressions and functions"
   ]
  },
  {
   "cell_type": "code",
   "execution_count": null,
   "metadata": {},
   "outputs": [],
   "source": [
    "add = lambda x, y : x+y\n",
    "\n",
    "def add_func(x, y):\n",
    "    return(x+y)"
   ]
  },
  {
   "cell_type": "code",
   "execution_count": null,
   "metadata": {},
   "outputs": [],
   "source": [
    "add(2, 3)"
   ]
  },
  {
   "cell_type": "code",
   "execution_count": null,
   "metadata": {},
   "outputs": [],
   "source": [
    "add_func(2,3)"
   ]
  },
  {
   "cell_type": "markdown",
   "metadata": {},
   "source": [
    "## lambdas vs functions\n",
    "1. Lambda expressions can be used as a replacement for functions especially in case of operations between numbers.\n",
    "2. Lambdas makes writing code a bit easier and a bit cleaner\n",
    "3. lambda expressions are mainly used along with map, filter, reduce"
   ]
  },
  {
   "cell_type": "code",
   "execution_count": null,
   "metadata": {},
   "outputs": [],
   "source": [
    "# factorial declaration in function\n",
    "def factorial(x):\n",
    "    if x == 1:\n",
    "        return 1\n",
    "    else:\n",
    "        x= x-1\n",
    "        return(x*factorial(x))"
   ]
  },
  {
   "cell_type": "code",
   "execution_count": null,
   "metadata": {},
   "outputs": [],
   "source": [
    "# factorial declaration in lambda\n",
    "factorial_lambda = lambda x:x ** 2"
   ]
  },
  {
   "cell_type": "code",
   "execution_count": null,
   "metadata": {},
   "outputs": [],
   "source": [
    "print(factorial(2))"
   ]
  },
  {
   "cell_type": "code",
   "execution_count": null,
   "metadata": {},
   "outputs": [],
   "source": [
    "factorial_lambda(8)"
   ]
  },
  {
   "cell_type": "markdown",
   "metadata": {},
   "source": [
    "## map() \n",
    "It is used to make transformations to the existing elements in datastructure\n",
    "\n",
    "map is defined by  map(function, seq1, seq2,...);\n",
    "seq1, seq2 can be list or tuple or set or.."
   ]
  },
  {
   "cell_type": "code",
   "execution_count": null,
   "metadata": {},
   "outputs": [],
   "source": [
    "list_1 = [1, 2, 3]\n",
    "newlist_map = map(lambda x:x+2, list_1) "
   ]
  },
  {
   "cell_type": "code",
   "execution_count": null,
   "metadata": {},
   "outputs": [],
   "source": [
    "list(newlist_map)"
   ]
  },
  {
   "cell_type": "code",
   "execution_count": null,
   "metadata": {},
   "outputs": [],
   "source": [
    "list_2 = ['data','science','machine','learning' ]"
   ]
  },
  {
   "cell_type": "code",
   "execution_count": null,
   "metadata": {},
   "outputs": [],
   "source": [
    "newlist2_map = map(lambda x:x+\" test\", list_2)"
   ]
  },
  {
   "cell_type": "code",
   "execution_count": null,
   "metadata": {},
   "outputs": [],
   "source": [
    "list_2"
   ]
  },
  {
   "cell_type": "code",
   "execution_count": null,
   "metadata": {},
   "outputs": [],
   "source": [
    "list(newlist2_map)"
   ]
  },
  {
   "cell_type": "code",
   "execution_count": null,
   "metadata": {},
   "outputs": [],
   "source": [
    "#performing operation on lists\n",
    "\n",
    "list(map(lambda x,y:str(x) + \" \"+y , list_1, list_2))"
   ]
  },
  {
   "cell_type": "markdown",
   "metadata": {},
   "source": [
    "## filter() \n",
    "if you want to filter a data with some condition for example, suppose if you want to find only even numbers from a given list\n",
    "\n",
    "defined as: filter(condition/filtering function, sequence)\n",
    "\n",
    "sequence can be list or tuple or set\n",
    "\n",
    "It also returns a sequence of elements; filter function can only have one iterable/sequence as input\n"
   ]
  },
  {
   "cell_type": "code",
   "execution_count": null,
   "metadata": {},
   "outputs": [],
   "source": [
    "list_1 = [1, 5, 4, 6, 8, 11, 3, 12]"
   ]
  },
  {
   "cell_type": "code",
   "execution_count": null,
   "metadata": {},
   "outputs": [],
   "source": [
    "new_list = filter(lambda x: x%2 == 0 , list_1)"
   ]
  },
  {
   "cell_type": "code",
   "execution_count": null,
   "metadata": {},
   "outputs": [],
   "source": [
    "print(list(new_list))"
   ]
  },
  {
   "cell_type": "code",
   "execution_count": null,
   "metadata": {},
   "outputs": [],
   "source": [
    "list_2 = ['1', '5', '4', '6', '8', '11', '3', '12']"
   ]
  },
  {
   "cell_type": "code",
   "execution_count": null,
   "metadata": {},
   "outputs": [],
   "source": [
    "new_list_2 = filter(lambda x: int(x)%2 == 0 , list_2)"
   ]
  },
  {
   "cell_type": "code",
   "execution_count": null,
   "metadata": {},
   "outputs": [],
   "source": [
    "list(new_list_2)"
   ]
  },
  {
   "cell_type": "code",
   "execution_count": null,
   "metadata": {},
   "outputs": [],
   "source": [
    "\"right\" >= \"left\""
   ]
  },
  {
   "cell_type": "code",
   "execution_count": null,
   "metadata": {},
   "outputs": [],
   "source": [
    "\"right\" < \"rih\""
   ]
  },
  {
   "cell_type": "code",
   "execution_count": null,
   "metadata": {},
   "outputs": [],
   "source": [
    "##List of dictionaries"
   ]
  },
  {
   "cell_type": "code",
   "execution_count": null,
   "metadata": {},
   "outputs": [],
   "source": [
    "dict_list = [{1:'DataScience',2:'ml',3:'AI'},{1:'DataScience',2:'ml'}]"
   ]
  },
  {
   "cell_type": "code",
   "execution_count": null,
   "metadata": {},
   "outputs": [],
   "source": [
    "even_dict = filter(lambda x:len(x)%2 == 0, dict_list)"
   ]
  },
  {
   "cell_type": "code",
   "execution_count": null,
   "metadata": {},
   "outputs": [],
   "source": [
    "list(even_dict)"
   ]
  },
  {
   "cell_type": "markdown",
   "metadata": {},
   "source": [
    "## reduce() ; \n",
    "\n",
    "It is used to return a single value from a given set of elements(list/sets/..)\n",
    "\n",
    "It is defined by reduce(func, sequence)\n",
    "\n",
    "Sequence can be list/set/tuple\n",
    "\n",
    "func is the operation that needs to repeatedly performed on all elements in sequence"
   ]
  },
  {
   "cell_type": "code",
   "execution_count": null,
   "metadata": {},
   "outputs": [],
   "source": [
    "import functools as fn\n",
    " \n",
    "# importing operator for operator functions\n",
    "import operator as op"
   ]
  },
  {
   "cell_type": "code",
   "execution_count": null,
   "metadata": {},
   "outputs": [],
   "source": [
    "(fn.reduce(op.mul,list_1))"
   ]
  },
  {
   "cell_type": "code",
   "execution_count": null,
   "metadata": {},
   "outputs": [],
   "source": [
    "(fn.reduce(op.add,list_2))"
   ]
  },
  {
   "cell_type": "markdown",
   "metadata": {},
   "source": [
    "\n",
    "#### Any Questions or suggestions, shoot me an email @ kirankchilla2@gmail.com\n",
    "### Thank You"
   ]
  }
 ],
 "metadata": {
  "kernelspec": {
   "display_name": "Python 3",
   "language": "python",
   "name": "python3"
  },
  "language_info": {
   "codemirror_mode": {
    "name": "ipython",
    "version": 3
   },
   "file_extension": ".py",
   "mimetype": "text/x-python",
   "name": "python",
   "nbconvert_exporter": "python",
   "pygments_lexer": "ipython3",
   "version": "3.6.4"
  }
 },
 "nbformat": 4,
 "nbformat_minor": 2
}
